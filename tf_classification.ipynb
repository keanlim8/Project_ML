{
 "cells": [
  {
   "cell_type": "code",
   "execution_count": 2,
   "id": "2276a518",
   "metadata": {},
   "outputs": [
    {
     "name": "stdout",
     "output_type": "stream",
     "text": [
      "2.11.0\n"
     ]
    }
   ],
   "source": [
    "#import library\n",
    "import tensorflow as tf\n",
    "print(tf.__version__)"
   ]
  },
  {
   "cell_type": "code",
   "execution_count": 4,
   "id": "7f8f6bc9",
   "metadata": {},
   "outputs": [
    {
     "data": {
      "text/plain": [
       "{'data': array([[1.799e+01, 1.038e+01, 1.228e+02, ..., 2.654e-01, 4.601e-01,\n",
       "         1.189e-01],\n",
       "        [2.057e+01, 1.777e+01, 1.329e+02, ..., 1.860e-01, 2.750e-01,\n",
       "         8.902e-02],\n",
       "        [1.969e+01, 2.125e+01, 1.300e+02, ..., 2.430e-01, 3.613e-01,\n",
       "         8.758e-02],\n",
       "        ...,\n",
       "        [1.660e+01, 2.808e+01, 1.083e+02, ..., 1.418e-01, 2.218e-01,\n",
       "         7.820e-02],\n",
       "        [2.060e+01, 2.933e+01, 1.401e+02, ..., 2.650e-01, 4.087e-01,\n",
       "         1.240e-01],\n",
       "        [7.760e+00, 2.454e+01, 4.792e+01, ..., 0.000e+00, 2.871e-01,\n",
       "         7.039e-02]]),\n",
       " 'target': array([0, 0, 0, 0, 0, 0, 0, 0, 0, 0, 0, 0, 0, 0, 0, 0, 0, 0, 0, 1, 1, 1,\n",
       "        0, 0, 0, 0, 0, 0, 0, 0, 0, 0, 0, 0, 0, 0, 0, 1, 0, 0, 0, 0, 0, 0,\n",
       "        0, 0, 1, 0, 1, 1, 1, 1, 1, 0, 0, 1, 0, 0, 1, 1, 1, 1, 0, 1, 0, 0,\n",
       "        1, 1, 1, 1, 0, 1, 0, 0, 1, 0, 1, 0, 0, 1, 1, 1, 0, 0, 1, 0, 0, 0,\n",
       "        1, 1, 1, 0, 1, 1, 0, 0, 1, 1, 1, 0, 0, 1, 1, 1, 1, 0, 1, 1, 0, 1,\n",
       "        1, 1, 1, 1, 1, 1, 1, 0, 0, 0, 1, 0, 0, 1, 1, 1, 0, 0, 1, 0, 1, 0,\n",
       "        0, 1, 0, 0, 1, 1, 0, 1, 1, 0, 1, 1, 1, 1, 0, 1, 1, 1, 1, 1, 1, 1,\n",
       "        1, 1, 0, 1, 1, 1, 1, 0, 0, 1, 0, 1, 1, 0, 0, 1, 1, 0, 0, 1, 1, 1,\n",
       "        1, 0, 1, 1, 0, 0, 0, 1, 0, 1, 0, 1, 1, 1, 0, 1, 1, 0, 0, 1, 0, 0,\n",
       "        0, 0, 1, 0, 0, 0, 1, 0, 1, 0, 1, 1, 0, 1, 0, 0, 0, 0, 1, 1, 0, 0,\n",
       "        1, 1, 1, 0, 1, 1, 1, 1, 1, 0, 0, 1, 1, 0, 1, 1, 0, 0, 1, 0, 1, 1,\n",
       "        1, 1, 0, 1, 1, 1, 1, 1, 0, 1, 0, 0, 0, 0, 0, 0, 0, 0, 0, 0, 0, 0,\n",
       "        0, 0, 1, 1, 1, 1, 1, 1, 0, 1, 0, 1, 1, 0, 1, 1, 0, 1, 0, 0, 1, 1,\n",
       "        1, 1, 1, 1, 1, 1, 1, 1, 1, 1, 1, 0, 1, 1, 0, 1, 0, 1, 1, 1, 1, 1,\n",
       "        1, 1, 1, 1, 1, 1, 1, 1, 1, 0, 1, 1, 1, 0, 1, 0, 1, 1, 1, 1, 0, 0,\n",
       "        0, 1, 1, 1, 1, 0, 1, 0, 1, 0, 1, 1, 1, 0, 1, 1, 1, 1, 1, 1, 1, 0,\n",
       "        0, 0, 1, 1, 1, 1, 1, 1, 1, 1, 1, 1, 1, 0, 0, 1, 0, 0, 0, 1, 0, 0,\n",
       "        1, 1, 1, 1, 1, 0, 1, 1, 1, 1, 1, 0, 1, 1, 1, 0, 1, 1, 0, 0, 1, 1,\n",
       "        1, 1, 1, 1, 0, 1, 1, 1, 1, 1, 1, 1, 0, 1, 1, 1, 1, 1, 0, 1, 1, 0,\n",
       "        1, 1, 1, 1, 1, 1, 1, 1, 1, 1, 1, 1, 0, 1, 0, 0, 1, 0, 1, 1, 1, 1,\n",
       "        1, 0, 1, 1, 0, 1, 0, 1, 1, 0, 1, 0, 1, 1, 1, 1, 1, 1, 1, 1, 0, 0,\n",
       "        1, 1, 1, 1, 1, 1, 0, 1, 1, 1, 1, 1, 1, 1, 1, 1, 1, 0, 1, 1, 1, 1,\n",
       "        1, 1, 1, 0, 1, 0, 1, 1, 0, 1, 1, 1, 1, 1, 0, 0, 1, 0, 1, 0, 1, 1,\n",
       "        1, 1, 1, 0, 1, 1, 0, 1, 0, 1, 0, 0, 1, 1, 1, 0, 1, 1, 1, 1, 1, 1,\n",
       "        1, 1, 1, 1, 1, 0, 1, 0, 0, 1, 1, 1, 1, 1, 1, 1, 1, 1, 1, 1, 1, 1,\n",
       "        1, 1, 1, 1, 1, 1, 1, 1, 1, 1, 1, 1, 0, 0, 0, 0, 0, 0, 1]),\n",
       " 'frame': None,\n",
       " 'target_names': array(['malignant', 'benign'], dtype='<U9'),\n",
       " 'DESCR': '.. _breast_cancer_dataset:\\n\\nBreast cancer wisconsin (diagnostic) dataset\\n--------------------------------------------\\n\\n**Data Set Characteristics:**\\n\\n    :Number of Instances: 569\\n\\n    :Number of Attributes: 30 numeric, predictive attributes and the class\\n\\n    :Attribute Information:\\n        - radius (mean of distances from center to points on the perimeter)\\n        - texture (standard deviation of gray-scale values)\\n        - perimeter\\n        - area\\n        - smoothness (local variation in radius lengths)\\n        - compactness (perimeter^2 / area - 1.0)\\n        - concavity (severity of concave portions of the contour)\\n        - concave points (number of concave portions of the contour)\\n        - symmetry\\n        - fractal dimension (\"coastline approximation\" - 1)\\n\\n        The mean, standard error, and \"worst\" or largest (mean of the three\\n        worst/largest values) of these features were computed for each image,\\n        resulting in 30 features.  For instance, field 0 is Mean Radius, field\\n        10 is Radius SE, field 20 is Worst Radius.\\n\\n        - class:\\n                - WDBC-Malignant\\n                - WDBC-Benign\\n\\n    :Summary Statistics:\\n\\n    ===================================== ====== ======\\n                                           Min    Max\\n    ===================================== ====== ======\\n    radius (mean):                        6.981  28.11\\n    texture (mean):                       9.71   39.28\\n    perimeter (mean):                     43.79  188.5\\n    area (mean):                          143.5  2501.0\\n    smoothness (mean):                    0.053  0.163\\n    compactness (mean):                   0.019  0.345\\n    concavity (mean):                     0.0    0.427\\n    concave points (mean):                0.0    0.201\\n    symmetry (mean):                      0.106  0.304\\n    fractal dimension (mean):             0.05   0.097\\n    radius (standard error):              0.112  2.873\\n    texture (standard error):             0.36   4.885\\n    perimeter (standard error):           0.757  21.98\\n    area (standard error):                6.802  542.2\\n    smoothness (standard error):          0.002  0.031\\n    compactness (standard error):         0.002  0.135\\n    concavity (standard error):           0.0    0.396\\n    concave points (standard error):      0.0    0.053\\n    symmetry (standard error):            0.008  0.079\\n    fractal dimension (standard error):   0.001  0.03\\n    radius (worst):                       7.93   36.04\\n    texture (worst):                      12.02  49.54\\n    perimeter (worst):                    50.41  251.2\\n    area (worst):                         185.2  4254.0\\n    smoothness (worst):                   0.071  0.223\\n    compactness (worst):                  0.027  1.058\\n    concavity (worst):                    0.0    1.252\\n    concave points (worst):               0.0    0.291\\n    symmetry (worst):                     0.156  0.664\\n    fractal dimension (worst):            0.055  0.208\\n    ===================================== ====== ======\\n\\n    :Missing Attribute Values: None\\n\\n    :Class Distribution: 212 - Malignant, 357 - Benign\\n\\n    :Creator:  Dr. William H. Wolberg, W. Nick Street, Olvi L. Mangasarian\\n\\n    :Donor: Nick Street\\n\\n    :Date: November, 1995\\n\\nThis is a copy of UCI ML Breast Cancer Wisconsin (Diagnostic) datasets.\\nhttps://goo.gl/U2Uwz2\\n\\nFeatures are computed from a digitized image of a fine needle\\naspirate (FNA) of a breast mass.  They describe\\ncharacteristics of the cell nuclei present in the image.\\n\\nSeparating plane described above was obtained using\\nMultisurface Method-Tree (MSM-T) [K. P. Bennett, \"Decision Tree\\nConstruction Via Linear Programming.\" Proceedings of the 4th\\nMidwest Artificial Intelligence and Cognitive Science Society,\\npp. 97-101, 1992], a classification method which uses linear\\nprogramming to construct a decision tree.  Relevant features\\nwere selected using an exhaustive search in the space of 1-4\\nfeatures and 1-3 separating planes.\\n\\nThe actual linear program used to obtain the separating plane\\nin the 3-dimensional space is that described in:\\n[K. P. Bennett and O. L. Mangasarian: \"Robust Linear\\nProgramming Discrimination of Two Linearly Inseparable Sets\",\\nOptimization Methods and Software 1, 1992, 23-34].\\n\\nThis database is also available through the UW CS ftp server:\\n\\nftp ftp.cs.wisc.edu\\ncd math-prog/cpo-dataset/machine-learn/WDBC/\\n\\n.. topic:: References\\n\\n   - W.N. Street, W.H. Wolberg and O.L. Mangasarian. Nuclear feature extraction \\n     for breast tumor diagnosis. IS&T/SPIE 1993 International Symposium on \\n     Electronic Imaging: Science and Technology, volume 1905, pages 861-870,\\n     San Jose, CA, 1993.\\n   - O.L. Mangasarian, W.N. Street and W.H. Wolberg. Breast cancer diagnosis and \\n     prognosis via linear programming. Operations Research, 43(4), pages 570-577, \\n     July-August 1995.\\n   - W.H. Wolberg, W.N. Street, and O.L. Mangasarian. Machine learning techniques\\n     to diagnose breast cancer from fine-needle aspirates. Cancer Letters 77 (1994) \\n     163-171.',\n",
       " 'feature_names': array(['mean radius', 'mean texture', 'mean perimeter', 'mean area',\n",
       "        'mean smoothness', 'mean compactness', 'mean concavity',\n",
       "        'mean concave points', 'mean symmetry', 'mean fractal dimension',\n",
       "        'radius error', 'texture error', 'perimeter error', 'area error',\n",
       "        'smoothness error', 'compactness error', 'concavity error',\n",
       "        'concave points error', 'symmetry error',\n",
       "        'fractal dimension error', 'worst radius', 'worst texture',\n",
       "        'worst perimeter', 'worst area', 'worst smoothness',\n",
       "        'worst compactness', 'worst concavity', 'worst concave points',\n",
       "        'worst symmetry', 'worst fractal dimension'], dtype='<U23'),\n",
       " 'filename': 'breast_cancer.csv',\n",
       " 'data_module': 'sklearn.datasets.data'}"
      ]
     },
     "execution_count": 4,
     "metadata": {},
     "output_type": "execute_result"
    }
   ],
   "source": [
    "#load dataset\n",
    "from sklearn.datasets import load_breast_cancer\n",
    "data = load_breast_cancer()\n",
    "data"
   ]
  },
  {
   "cell_type": "code",
   "execution_count": 5,
   "id": "093a24d3",
   "metadata": {},
   "outputs": [
    {
     "data": {
      "text/plain": [
       "sklearn.utils._bunch.Bunch"
      ]
     },
     "execution_count": 5,
     "metadata": {},
     "output_type": "execute_result"
    }
   ],
   "source": [
    "type(data)"
   ]
  },
  {
   "cell_type": "code",
   "execution_count": 6,
   "id": "b49d45ed",
   "metadata": {},
   "outputs": [
    {
     "data": {
      "text/plain": [
       "dict_keys(['data', 'target', 'frame', 'target_names', 'DESCR', 'feature_names', 'filename', 'data_module'])"
      ]
     },
     "execution_count": 6,
     "metadata": {},
     "output_type": "execute_result"
    }
   ],
   "source": [
    "data.keys()"
   ]
  },
  {
   "cell_type": "code",
   "execution_count": 8,
   "id": "d851efb3",
   "metadata": {},
   "outputs": [
    {
     "data": {
      "text/plain": [
       "(569, 30)"
      ]
     },
     "execution_count": 8,
     "metadata": {},
     "output_type": "execute_result"
    }
   ],
   "source": [
    "data.data.shape"
   ]
  },
  {
   "cell_type": "code",
   "execution_count": 9,
   "id": "20b010b8",
   "metadata": {},
   "outputs": [
    {
     "data": {
      "text/plain": [
       "array([0, 0, 0, 0, 0, 0, 0, 0, 0, 0, 0, 0, 0, 0, 0, 0, 0, 0, 0, 1, 1, 1,\n",
       "       0, 0, 0, 0, 0, 0, 0, 0, 0, 0, 0, 0, 0, 0, 0, 1, 0, 0, 0, 0, 0, 0,\n",
       "       0, 0, 1, 0, 1, 1, 1, 1, 1, 0, 0, 1, 0, 0, 1, 1, 1, 1, 0, 1, 0, 0,\n",
       "       1, 1, 1, 1, 0, 1, 0, 0, 1, 0, 1, 0, 0, 1, 1, 1, 0, 0, 1, 0, 0, 0,\n",
       "       1, 1, 1, 0, 1, 1, 0, 0, 1, 1, 1, 0, 0, 1, 1, 1, 1, 0, 1, 1, 0, 1,\n",
       "       1, 1, 1, 1, 1, 1, 1, 0, 0, 0, 1, 0, 0, 1, 1, 1, 0, 0, 1, 0, 1, 0,\n",
       "       0, 1, 0, 0, 1, 1, 0, 1, 1, 0, 1, 1, 1, 1, 0, 1, 1, 1, 1, 1, 1, 1,\n",
       "       1, 1, 0, 1, 1, 1, 1, 0, 0, 1, 0, 1, 1, 0, 0, 1, 1, 0, 0, 1, 1, 1,\n",
       "       1, 0, 1, 1, 0, 0, 0, 1, 0, 1, 0, 1, 1, 1, 0, 1, 1, 0, 0, 1, 0, 0,\n",
       "       0, 0, 1, 0, 0, 0, 1, 0, 1, 0, 1, 1, 0, 1, 0, 0, 0, 0, 1, 1, 0, 0,\n",
       "       1, 1, 1, 0, 1, 1, 1, 1, 1, 0, 0, 1, 1, 0, 1, 1, 0, 0, 1, 0, 1, 1,\n",
       "       1, 1, 0, 1, 1, 1, 1, 1, 0, 1, 0, 0, 0, 0, 0, 0, 0, 0, 0, 0, 0, 0,\n",
       "       0, 0, 1, 1, 1, 1, 1, 1, 0, 1, 0, 1, 1, 0, 1, 1, 0, 1, 0, 0, 1, 1,\n",
       "       1, 1, 1, 1, 1, 1, 1, 1, 1, 1, 1, 0, 1, 1, 0, 1, 0, 1, 1, 1, 1, 1,\n",
       "       1, 1, 1, 1, 1, 1, 1, 1, 1, 0, 1, 1, 1, 0, 1, 0, 1, 1, 1, 1, 0, 0,\n",
       "       0, 1, 1, 1, 1, 0, 1, 0, 1, 0, 1, 1, 1, 0, 1, 1, 1, 1, 1, 1, 1, 0,\n",
       "       0, 0, 1, 1, 1, 1, 1, 1, 1, 1, 1, 1, 1, 0, 0, 1, 0, 0, 0, 1, 0, 0,\n",
       "       1, 1, 1, 1, 1, 0, 1, 1, 1, 1, 1, 0, 1, 1, 1, 0, 1, 1, 0, 0, 1, 1,\n",
       "       1, 1, 1, 1, 0, 1, 1, 1, 1, 1, 1, 1, 0, 1, 1, 1, 1, 1, 0, 1, 1, 0,\n",
       "       1, 1, 1, 1, 1, 1, 1, 1, 1, 1, 1, 1, 0, 1, 0, 0, 1, 0, 1, 1, 1, 1,\n",
       "       1, 0, 1, 1, 0, 1, 0, 1, 1, 0, 1, 0, 1, 1, 1, 1, 1, 1, 1, 1, 0, 0,\n",
       "       1, 1, 1, 1, 1, 1, 0, 1, 1, 1, 1, 1, 1, 1, 1, 1, 1, 0, 1, 1, 1, 1,\n",
       "       1, 1, 1, 0, 1, 0, 1, 1, 0, 1, 1, 1, 1, 1, 0, 0, 1, 0, 1, 0, 1, 1,\n",
       "       1, 1, 1, 0, 1, 1, 0, 1, 0, 1, 0, 0, 1, 1, 1, 0, 1, 1, 1, 1, 1, 1,\n",
       "       1, 1, 1, 1, 1, 0, 1, 0, 0, 1, 1, 1, 1, 1, 1, 1, 1, 1, 1, 1, 1, 1,\n",
       "       1, 1, 1, 1, 1, 1, 1, 1, 1, 1, 1, 1, 0, 0, 0, 0, 0, 0, 1])"
      ]
     },
     "execution_count": 9,
     "metadata": {},
     "output_type": "execute_result"
    }
   ],
   "source": [
    "data.target #binary classification problem"
   ]
  },
  {
   "cell_type": "code",
   "execution_count": 10,
   "id": "56781676",
   "metadata": {},
   "outputs": [
    {
     "data": {
      "text/plain": [
       "array(['malignant', 'benign'], dtype='<U9')"
      ]
     },
     "execution_count": 10,
     "metadata": {},
     "output_type": "execute_result"
    }
   ],
   "source": [
    "data.target_names"
   ]
  },
  {
   "cell_type": "code",
   "execution_count": 11,
   "id": "24f9c5af",
   "metadata": {},
   "outputs": [
    {
     "data": {
      "text/plain": [
       "(569,)"
      ]
     },
     "execution_count": 11,
     "metadata": {},
     "output_type": "execute_result"
    }
   ],
   "source": [
    "data.target.shape"
   ]
  },
  {
   "cell_type": "code",
   "execution_count": 12,
   "id": "e7180615",
   "metadata": {},
   "outputs": [
    {
     "data": {
      "text/plain": [
       "array(['mean radius', 'mean texture', 'mean perimeter', 'mean area',\n",
       "       'mean smoothness', 'mean compactness', 'mean concavity',\n",
       "       'mean concave points', 'mean symmetry', 'mean fractal dimension',\n",
       "       'radius error', 'texture error', 'perimeter error', 'area error',\n",
       "       'smoothness error', 'compactness error', 'concavity error',\n",
       "       'concave points error', 'symmetry error',\n",
       "       'fractal dimension error', 'worst radius', 'worst texture',\n",
       "       'worst perimeter', 'worst area', 'worst smoothness',\n",
       "       'worst compactness', 'worst concavity', 'worst concave points',\n",
       "       'worst symmetry', 'worst fractal dimension'], dtype='<U23')"
      ]
     },
     "execution_count": 12,
     "metadata": {},
     "output_type": "execute_result"
    }
   ],
   "source": [
    "data.feature_names"
   ]
  },
  {
   "cell_type": "code",
   "execution_count": 13,
   "id": "35d80f4d",
   "metadata": {},
   "outputs": [],
   "source": [
    "#train model\n",
    "from sklearn.model_selection import train_test_split\n",
    "x_train,x_test,y_train,y_test = train_test_split(data.data, data.target)"
   ]
  },
  {
   "cell_type": "code",
   "execution_count": 15,
   "id": "fecd6de3",
   "metadata": {},
   "outputs": [],
   "source": [
    "N, D = x_train.shape"
   ]
  },
  {
   "cell_type": "code",
   "execution_count": 16,
   "id": "ce2339f6",
   "metadata": {},
   "outputs": [
    {
     "data": {
      "text/plain": [
       "(426, 30)"
      ]
     },
     "execution_count": 16,
     "metadata": {},
     "output_type": "execute_result"
    }
   ],
   "source": [
    "N, D"
   ]
  },
  {
   "cell_type": "code",
   "execution_count": 17,
   "id": "3ad54f2d",
   "metadata": {},
   "outputs": [],
   "source": [
    "from sklearn.preprocessing import StandardScaler\n",
    "scaler = StandardScaler()\n",
    "x_train = scaler.fit_transform(x_train)\n",
    "x_test = scaler.transform(x_test)"
   ]
  },
  {
   "cell_type": "code",
   "execution_count": 18,
   "id": "cd709680",
   "metadata": {},
   "outputs": [],
   "source": [
    "model = tf.keras.models.Sequential([\n",
    "    tf.keras.layers.Input(shape=(D,)),\n",
    "    tf.keras.layers.Dense(1, activation='sigmoid')\n",
    "])"
   ]
  },
  {
   "cell_type": "code",
   "execution_count": 21,
   "id": "8faacff4",
   "metadata": {},
   "outputs": [],
   "source": [
    "model.compile(optimizer='adam',\n",
    "             loss='binary_crossentropy',\n",
    "             metrics=['accuracy'])"
   ]
  },
  {
   "cell_type": "code",
   "execution_count": 22,
   "id": "60f97705",
   "metadata": {},
   "outputs": [
    {
     "name": "stdout",
     "output_type": "stream",
     "text": [
      "Epoch 1/100\n",
      "14/14 [==============================] - 0s 6ms/step - loss: 0.4953 - accuracy: 0.7981 - val_loss: 0.4326 - val_accuracy: 0.8252\n",
      "Epoch 2/100\n",
      "14/14 [==============================] - 0s 1ms/step - loss: 0.4504 - accuracy: 0.8263 - val_loss: 0.3998 - val_accuracy: 0.8462\n",
      "Epoch 3/100\n",
      "14/14 [==============================] - 0s 1ms/step - loss: 0.4136 - accuracy: 0.8404 - val_loss: 0.3729 - val_accuracy: 0.8671\n",
      "Epoch 4/100\n",
      "14/14 [==============================] - 0s 1ms/step - loss: 0.3815 - accuracy: 0.8568 - val_loss: 0.3497 - val_accuracy: 0.8881\n",
      "Epoch 5/100\n",
      "14/14 [==============================] - 0s 1ms/step - loss: 0.3550 - accuracy: 0.8615 - val_loss: 0.3297 - val_accuracy: 0.8951\n",
      "Epoch 6/100\n",
      "14/14 [==============================] - 0s 1ms/step - loss: 0.3305 - accuracy: 0.8756 - val_loss: 0.3127 - val_accuracy: 0.9021\n",
      "Epoch 7/100\n",
      "14/14 [==============================] - 0s 1ms/step - loss: 0.3109 - accuracy: 0.8991 - val_loss: 0.2979 - val_accuracy: 0.9161\n",
      "Epoch 8/100\n",
      "14/14 [==============================] - 0s 1ms/step - loss: 0.2928 - accuracy: 0.9038 - val_loss: 0.2849 - val_accuracy: 0.9161\n",
      "Epoch 9/100\n",
      "14/14 [==============================] - 0s 1ms/step - loss: 0.2773 - accuracy: 0.9038 - val_loss: 0.2735 - val_accuracy: 0.9161\n",
      "Epoch 10/100\n",
      "14/14 [==============================] - 0s 1ms/step - loss: 0.2633 - accuracy: 0.9061 - val_loss: 0.2632 - val_accuracy: 0.9161\n",
      "Epoch 11/100\n",
      "14/14 [==============================] - 0s 1ms/step - loss: 0.2506 - accuracy: 0.9155 - val_loss: 0.2540 - val_accuracy: 0.9161\n",
      "Epoch 12/100\n",
      "14/14 [==============================] - 0s 1ms/step - loss: 0.2394 - accuracy: 0.9202 - val_loss: 0.2460 - val_accuracy: 0.9161\n",
      "Epoch 13/100\n",
      "14/14 [==============================] - 0s 1ms/step - loss: 0.2292 - accuracy: 0.9202 - val_loss: 0.2385 - val_accuracy: 0.9231\n",
      "Epoch 14/100\n",
      "14/14 [==============================] - 0s 1ms/step - loss: 0.2202 - accuracy: 0.9272 - val_loss: 0.2316 - val_accuracy: 0.9231\n",
      "Epoch 15/100\n",
      "14/14 [==============================] - 0s 1ms/step - loss: 0.2119 - accuracy: 0.9319 - val_loss: 0.2252 - val_accuracy: 0.9301\n",
      "Epoch 16/100\n",
      "14/14 [==============================] - 0s 1ms/step - loss: 0.2047 - accuracy: 0.9319 - val_loss: 0.2194 - val_accuracy: 0.9301\n",
      "Epoch 17/100\n",
      "14/14 [==============================] - 0s 1ms/step - loss: 0.1974 - accuracy: 0.9366 - val_loss: 0.2141 - val_accuracy: 0.9301\n",
      "Epoch 18/100\n",
      "14/14 [==============================] - 0s 1ms/step - loss: 0.1913 - accuracy: 0.9390 - val_loss: 0.2090 - val_accuracy: 0.9371\n",
      "Epoch 19/100\n",
      "14/14 [==============================] - 0s 1ms/step - loss: 0.1857 - accuracy: 0.9437 - val_loss: 0.2046 - val_accuracy: 0.9371\n",
      "Epoch 20/100\n",
      "14/14 [==============================] - 0s 1ms/step - loss: 0.1804 - accuracy: 0.9507 - val_loss: 0.2004 - val_accuracy: 0.9371\n",
      "Epoch 21/100\n",
      "14/14 [==============================] - 0s 1ms/step - loss: 0.1756 - accuracy: 0.9507 - val_loss: 0.1963 - val_accuracy: 0.9371\n",
      "Epoch 22/100\n",
      "14/14 [==============================] - 0s 1ms/step - loss: 0.1710 - accuracy: 0.9554 - val_loss: 0.1927 - val_accuracy: 0.9371\n",
      "Epoch 23/100\n",
      "14/14 [==============================] - 0s 1ms/step - loss: 0.1668 - accuracy: 0.9577 - val_loss: 0.1890 - val_accuracy: 0.9371\n",
      "Epoch 24/100\n",
      "14/14 [==============================] - 0s 1ms/step - loss: 0.1627 - accuracy: 0.9577 - val_loss: 0.1857 - val_accuracy: 0.9371\n",
      "Epoch 25/100\n",
      "14/14 [==============================] - 0s 1ms/step - loss: 0.1590 - accuracy: 0.9577 - val_loss: 0.1826 - val_accuracy: 0.9371\n",
      "Epoch 26/100\n",
      "14/14 [==============================] - 0s 1ms/step - loss: 0.1553 - accuracy: 0.9577 - val_loss: 0.1797 - val_accuracy: 0.9441\n",
      "Epoch 27/100\n",
      "14/14 [==============================] - 0s 1ms/step - loss: 0.1522 - accuracy: 0.9577 - val_loss: 0.1770 - val_accuracy: 0.9441\n",
      "Epoch 28/100\n",
      "14/14 [==============================] - 0s 1ms/step - loss: 0.1490 - accuracy: 0.9624 - val_loss: 0.1743 - val_accuracy: 0.9441\n",
      "Epoch 29/100\n",
      "14/14 [==============================] - 0s 1ms/step - loss: 0.1461 - accuracy: 0.9624 - val_loss: 0.1718 - val_accuracy: 0.9441\n",
      "Epoch 30/100\n",
      "14/14 [==============================] - 0s 1ms/step - loss: 0.1434 - accuracy: 0.9624 - val_loss: 0.1695 - val_accuracy: 0.9441\n",
      "Epoch 31/100\n",
      "14/14 [==============================] - 0s 1ms/step - loss: 0.1408 - accuracy: 0.9624 - val_loss: 0.1672 - val_accuracy: 0.9441\n",
      "Epoch 32/100\n",
      "14/14 [==============================] - 0s 1ms/step - loss: 0.1383 - accuracy: 0.9624 - val_loss: 0.1651 - val_accuracy: 0.9510\n",
      "Epoch 33/100\n",
      "14/14 [==============================] - 0s 1ms/step - loss: 0.1360 - accuracy: 0.9624 - val_loss: 0.1631 - val_accuracy: 0.9510\n",
      "Epoch 34/100\n",
      "14/14 [==============================] - 0s 1ms/step - loss: 0.1337 - accuracy: 0.9624 - val_loss: 0.1612 - val_accuracy: 0.9510\n",
      "Epoch 35/100\n",
      "14/14 [==============================] - 0s 1ms/step - loss: 0.1316 - accuracy: 0.9624 - val_loss: 0.1592 - val_accuracy: 0.9510\n",
      "Epoch 36/100\n",
      "14/14 [==============================] - 0s 1ms/step - loss: 0.1296 - accuracy: 0.9624 - val_loss: 0.1574 - val_accuracy: 0.9510\n",
      "Epoch 37/100\n",
      "14/14 [==============================] - 0s 1ms/step - loss: 0.1277 - accuracy: 0.9624 - val_loss: 0.1557 - val_accuracy: 0.9510\n",
      "Epoch 38/100\n",
      "14/14 [==============================] - 0s 1ms/step - loss: 0.1258 - accuracy: 0.9624 - val_loss: 0.1540 - val_accuracy: 0.9510\n",
      "Epoch 39/100\n",
      "14/14 [==============================] - 0s 1ms/step - loss: 0.1240 - accuracy: 0.9624 - val_loss: 0.1524 - val_accuracy: 0.9510\n",
      "Epoch 40/100\n",
      "14/14 [==============================] - 0s 1ms/step - loss: 0.1224 - accuracy: 0.9624 - val_loss: 0.1509 - val_accuracy: 0.9510\n",
      "Epoch 41/100\n",
      "14/14 [==============================] - 0s 1ms/step - loss: 0.1207 - accuracy: 0.9624 - val_loss: 0.1494 - val_accuracy: 0.9510\n",
      "Epoch 42/100\n",
      "14/14 [==============================] - 0s 1ms/step - loss: 0.1192 - accuracy: 0.9624 - val_loss: 0.1480 - val_accuracy: 0.9510\n",
      "Epoch 43/100\n",
      "14/14 [==============================] - 0s 1ms/step - loss: 0.1178 - accuracy: 0.9624 - val_loss: 0.1466 - val_accuracy: 0.9510\n",
      "Epoch 44/100\n",
      "14/14 [==============================] - 0s 1ms/step - loss: 0.1163 - accuracy: 0.9624 - val_loss: 0.1454 - val_accuracy: 0.9510\n",
      "Epoch 45/100\n",
      "14/14 [==============================] - 0s 1ms/step - loss: 0.1149 - accuracy: 0.9624 - val_loss: 0.1442 - val_accuracy: 0.9510\n",
      "Epoch 46/100\n",
      "14/14 [==============================] - 0s 1ms/step - loss: 0.1135 - accuracy: 0.9624 - val_loss: 0.1431 - val_accuracy: 0.9510\n",
      "Epoch 47/100\n",
      "14/14 [==============================] - 0s 1ms/step - loss: 0.1123 - accuracy: 0.9648 - val_loss: 0.1419 - val_accuracy: 0.9510\n",
      "Epoch 48/100\n",
      "14/14 [==============================] - 0s 1ms/step - loss: 0.1110 - accuracy: 0.9648 - val_loss: 0.1408 - val_accuracy: 0.9510\n",
      "Epoch 49/100\n",
      "14/14 [==============================] - 0s 1ms/step - loss: 0.1098 - accuracy: 0.9671 - val_loss: 0.1397 - val_accuracy: 0.9510\n",
      "Epoch 50/100\n",
      "14/14 [==============================] - 0s 1ms/step - loss: 0.1087 - accuracy: 0.9671 - val_loss: 0.1386 - val_accuracy: 0.9580\n",
      "Epoch 51/100\n",
      "14/14 [==============================] - 0s 1ms/step - loss: 0.1076 - accuracy: 0.9648 - val_loss: 0.1376 - val_accuracy: 0.9580\n",
      "Epoch 52/100\n",
      "14/14 [==============================] - 0s 1ms/step - loss: 0.1065 - accuracy: 0.9671 - val_loss: 0.1367 - val_accuracy: 0.9580\n",
      "Epoch 53/100\n",
      "14/14 [==============================] - 0s 1ms/step - loss: 0.1055 - accuracy: 0.9671 - val_loss: 0.1356 - val_accuracy: 0.9580\n",
      "Epoch 54/100\n",
      "14/14 [==============================] - 0s 1ms/step - loss: 0.1045 - accuracy: 0.9671 - val_loss: 0.1347 - val_accuracy: 0.9580\n",
      "Epoch 55/100\n",
      "14/14 [==============================] - 0s 1ms/step - loss: 0.1035 - accuracy: 0.9671 - val_loss: 0.1338 - val_accuracy: 0.9650\n",
      "Epoch 56/100\n",
      "14/14 [==============================] - 0s 1ms/step - loss: 0.1025 - accuracy: 0.9695 - val_loss: 0.1330 - val_accuracy: 0.9650\n",
      "Epoch 57/100\n",
      "14/14 [==============================] - 0s 1ms/step - loss: 0.1016 - accuracy: 0.9695 - val_loss: 0.1321 - val_accuracy: 0.9650\n",
      "Epoch 58/100\n",
      "14/14 [==============================] - 0s 1ms/step - loss: 0.1007 - accuracy: 0.9695 - val_loss: 0.1313 - val_accuracy: 0.9650\n",
      "Epoch 59/100\n",
      "14/14 [==============================] - 0s 1ms/step - loss: 0.0999 - accuracy: 0.9695 - val_loss: 0.1305 - val_accuracy: 0.9650\n",
      "Epoch 60/100\n",
      "14/14 [==============================] - 0s 1ms/step - loss: 0.0990 - accuracy: 0.9695 - val_loss: 0.1298 - val_accuracy: 0.9650\n",
      "Epoch 61/100\n",
      "14/14 [==============================] - 0s 1ms/step - loss: 0.0982 - accuracy: 0.9695 - val_loss: 0.1290 - val_accuracy: 0.9650\n",
      "Epoch 62/100\n",
      "14/14 [==============================] - 0s 1ms/step - loss: 0.0973 - accuracy: 0.9718 - val_loss: 0.1283 - val_accuracy: 0.9650\n",
      "Epoch 63/100\n",
      "14/14 [==============================] - 0s 1ms/step - loss: 0.0966 - accuracy: 0.9718 - val_loss: 0.1277 - val_accuracy: 0.9650\n",
      "Epoch 64/100\n",
      "14/14 [==============================] - 0s 1ms/step - loss: 0.0958 - accuracy: 0.9742 - val_loss: 0.1270 - val_accuracy: 0.9650\n",
      "Epoch 65/100\n",
      "14/14 [==============================] - 0s 1ms/step - loss: 0.0951 - accuracy: 0.9742 - val_loss: 0.1262 - val_accuracy: 0.9650\n",
      "Epoch 66/100\n",
      "14/14 [==============================] - 0s 1ms/step - loss: 0.0943 - accuracy: 0.9742 - val_loss: 0.1256 - val_accuracy: 0.9650\n",
      "Epoch 67/100\n",
      "14/14 [==============================] - 0s 1ms/step - loss: 0.0937 - accuracy: 0.9742 - val_loss: 0.1250 - val_accuracy: 0.9720\n",
      "Epoch 68/100\n",
      "14/14 [==============================] - 0s 1ms/step - loss: 0.0929 - accuracy: 0.9742 - val_loss: 0.1244 - val_accuracy: 0.9720\n",
      "Epoch 69/100\n",
      "14/14 [==============================] - 0s 1ms/step - loss: 0.0922 - accuracy: 0.9742 - val_loss: 0.1238 - val_accuracy: 0.9790\n",
      "Epoch 70/100\n",
      "14/14 [==============================] - 0s 1ms/step - loss: 0.0915 - accuracy: 0.9742 - val_loss: 0.1232 - val_accuracy: 0.9790\n",
      "Epoch 71/100\n",
      "14/14 [==============================] - 0s 1ms/step - loss: 0.0909 - accuracy: 0.9742 - val_loss: 0.1226 - val_accuracy: 0.9790\n",
      "Epoch 72/100\n",
      "14/14 [==============================] - 0s 1ms/step - loss: 0.0903 - accuracy: 0.9742 - val_loss: 0.1220 - val_accuracy: 0.9790\n",
      "Epoch 73/100\n",
      "14/14 [==============================] - 0s 1ms/step - loss: 0.0897 - accuracy: 0.9742 - val_loss: 0.1214 - val_accuracy: 0.9790\n",
      "Epoch 74/100\n",
      "14/14 [==============================] - 0s 1ms/step - loss: 0.0891 - accuracy: 0.9742 - val_loss: 0.1209 - val_accuracy: 0.9790\n",
      "Epoch 75/100\n",
      "14/14 [==============================] - 0s 1ms/step - loss: 0.0885 - accuracy: 0.9742 - val_loss: 0.1204 - val_accuracy: 0.9790\n",
      "Epoch 76/100\n",
      "14/14 [==============================] - 0s 1ms/step - loss: 0.0880 - accuracy: 0.9742 - val_loss: 0.1199 - val_accuracy: 0.9790\n",
      "Epoch 77/100\n",
      "14/14 [==============================] - 0s 1ms/step - loss: 0.0874 - accuracy: 0.9742 - val_loss: 0.1194 - val_accuracy: 0.9790\n",
      "Epoch 78/100\n",
      "14/14 [==============================] - 0s 1ms/step - loss: 0.0869 - accuracy: 0.9742 - val_loss: 0.1190 - val_accuracy: 0.9790\n",
      "Epoch 79/100\n",
      "14/14 [==============================] - 0s 1ms/step - loss: 0.0863 - accuracy: 0.9742 - val_loss: 0.1185 - val_accuracy: 0.9860\n",
      "Epoch 80/100\n",
      "14/14 [==============================] - 0s 1ms/step - loss: 0.0858 - accuracy: 0.9742 - val_loss: 0.1181 - val_accuracy: 0.9860\n",
      "Epoch 81/100\n",
      "14/14 [==============================] - 0s 1ms/step - loss: 0.0853 - accuracy: 0.9742 - val_loss: 0.1176 - val_accuracy: 0.9860\n",
      "Epoch 82/100\n",
      "14/14 [==============================] - 0s 1ms/step - loss: 0.0848 - accuracy: 0.9742 - val_loss: 0.1171 - val_accuracy: 0.9860\n",
      "Epoch 83/100\n",
      "14/14 [==============================] - 0s 1ms/step - loss: 0.0843 - accuracy: 0.9742 - val_loss: 0.1166 - val_accuracy: 0.9860\n",
      "Epoch 84/100\n",
      "14/14 [==============================] - 0s 1ms/step - loss: 0.0838 - accuracy: 0.9742 - val_loss: 0.1162 - val_accuracy: 0.9860\n",
      "Epoch 85/100\n",
      "14/14 [==============================] - 0s 1ms/step - loss: 0.0833 - accuracy: 0.9742 - val_loss: 0.1157 - val_accuracy: 0.9860\n",
      "Epoch 86/100\n",
      "14/14 [==============================] - 0s 1ms/step - loss: 0.0828 - accuracy: 0.9742 - val_loss: 0.1153 - val_accuracy: 0.9860\n",
      "Epoch 87/100\n",
      "14/14 [==============================] - 0s 1ms/step - loss: 0.0824 - accuracy: 0.9742 - val_loss: 0.1148 - val_accuracy: 0.9860\n",
      "Epoch 88/100\n",
      "14/14 [==============================] - 0s 1ms/step - loss: 0.0820 - accuracy: 0.9742 - val_loss: 0.1144 - val_accuracy: 0.9860\n",
      "Epoch 89/100\n",
      "14/14 [==============================] - 0s 1ms/step - loss: 0.0815 - accuracy: 0.9742 - val_loss: 0.1142 - val_accuracy: 0.9860\n",
      "Epoch 90/100\n",
      "14/14 [==============================] - 0s 1ms/step - loss: 0.0811 - accuracy: 0.9742 - val_loss: 0.1138 - val_accuracy: 0.9860\n",
      "Epoch 91/100\n",
      "14/14 [==============================] - 0s 1ms/step - loss: 0.0807 - accuracy: 0.9742 - val_loss: 0.1134 - val_accuracy: 0.9860\n",
      "Epoch 92/100\n",
      "14/14 [==============================] - 0s 1ms/step - loss: 0.0803 - accuracy: 0.9742 - val_loss: 0.1131 - val_accuracy: 0.9860\n",
      "Epoch 93/100\n",
      "14/14 [==============================] - 0s 1ms/step - loss: 0.0799 - accuracy: 0.9742 - val_loss: 0.1127 - val_accuracy: 0.9860\n",
      "Epoch 94/100\n",
      "14/14 [==============================] - 0s 1ms/step - loss: 0.0794 - accuracy: 0.9742 - val_loss: 0.1124 - val_accuracy: 0.9860\n",
      "Epoch 95/100\n",
      "14/14 [==============================] - 0s 1ms/step - loss: 0.0791 - accuracy: 0.9742 - val_loss: 0.1121 - val_accuracy: 0.9860\n",
      "Epoch 96/100\n",
      "14/14 [==============================] - 0s 1ms/step - loss: 0.0787 - accuracy: 0.9742 - val_loss: 0.1118 - val_accuracy: 0.9860\n",
      "Epoch 97/100\n",
      "14/14 [==============================] - 0s 1ms/step - loss: 0.0783 - accuracy: 0.9742 - val_loss: 0.1114 - val_accuracy: 0.9860\n",
      "Epoch 98/100\n",
      "14/14 [==============================] - 0s 1ms/step - loss: 0.0780 - accuracy: 0.9742 - val_loss: 0.1111 - val_accuracy: 0.9860\n",
      "Epoch 99/100\n",
      "14/14 [==============================] - 0s 1ms/step - loss: 0.0776 - accuracy: 0.9742 - val_loss: 0.1108 - val_accuracy: 0.9860\n",
      "Epoch 100/100\n",
      "14/14 [==============================] - 0s 1ms/step - loss: 0.0772 - accuracy: 0.9742 - val_loss: 0.1104 - val_accuracy: 0.9860\n"
     ]
    }
   ],
   "source": [
    "r = model.fit(x_train, y_train, validation_data=(x_test, y_test), epochs=100)"
   ]
  },
  {
   "cell_type": "code",
   "execution_count": 23,
   "id": "c1b085cb",
   "metadata": {},
   "outputs": [
    {
     "name": "stdout",
     "output_type": "stream",
     "text": [
      "14/14 [==============================] - 0s 583us/step - loss: 0.0770 - accuracy: 0.9742\n",
      "Train score: [0.07698332518339157, 0.9741784334182739]\n",
      "5/5 [==============================] - 0s 697us/step - loss: 0.1104 - accuracy: 0.9860\n",
      "Test score: [0.11038990318775177, 0.9860140085220337]\n"
     ]
    }
   ],
   "source": [
    "print('Train score:', model.evaluate(x_train, y_train))\n",
    "print('Test score:', model.evaluate(x_test, y_test))"
   ]
  },
  {
   "cell_type": "code",
   "execution_count": 24,
   "id": "92f05d04",
   "metadata": {},
   "outputs": [
    {
     "data": {
      "text/plain": [
       "<matplotlib.legend.Legend at 0x2bbb7e290>"
      ]
     },
     "execution_count": 24,
     "metadata": {},
     "output_type": "execute_result"
    },
    {
     "data": {
      "image/png": "[encoded data removed]",
      "text/plain": [
       "<Figure size 640x480 with 1 Axes>"
      ]
     },
     "metadata": {},
     "output_type": "display_data"
    }
   ],
   "source": [
    "import matplotlib.pyplot as plt\n",
    "plt.plot(r.history['loss'], label='loss')\n",
    "plt.plot(r.history['val_loss'], label='val_loss')\n",
    "plt.legend()"
   ]
  },
  {
   "cell_type": "code",
   "execution_count": 25,
   "id": "eea2ded0",
   "metadata": {},
   "outputs": [
    {
     "data": {
      "text/plain": [
       "<matplotlib.legend.Legend at 0x2bbc23580>"
      ]
     },
     "execution_count": 25,
     "metadata": {},
     "output_type": "execute_result"
    },
    {
     "data": {
      "image/png": "[encoded data removed]",
      "text/plain": [
       "<Figure size 640x480 with 1 Axes>"
      ]
     },
     "metadata": {},
     "output_type": "display_data"
    }
   ],
   "source": [
    "plt.plot(r.history['accuracy'], label='acc')\n",
    "plt.plot(r.history['val_accuracy'], label='val_acc')\n",
    "plt.legend()"
   ]
  },
  {
   "cell_type": "code",
   "execution_count": 26,
   "id": "3b8376e0",
   "metadata": {},
   "outputs": [
    {
     "data": {
      "text/plain": [
       "[<keras.layers.core.dense.Dense at 0x29acd1f30>]"
      ]
     },
     "execution_count": 26,
     "metadata": {},
     "output_type": "execute_result"
    }
   ],
   "source": [
    "model.layers"
   ]
  },
  {
   "cell_type": "code",
   "execution_count": 27,
   "id": "02225a96",
   "metadata": {},
   "outputs": [
    {
     "data": {
      "text/plain": [
       "[array([[-0.6748161 ],\n",
       "        [-0.32090256],\n",
       "        [-0.14800045],\n",
       "        [-0.23588692],\n",
       "        [-0.08574877],\n",
       "        [-0.24498981],\n",
       "        [-0.18875323],\n",
       "        [-0.74211377],\n",
       "        [-0.4213158 ],\n",
       "        [ 0.20461634],\n",
       "        [-0.34420365],\n",
       "        [ 0.15402304],\n",
       "        [-0.48223332],\n",
       "        [-0.31969306],\n",
       "        [ 0.04769056],\n",
       "        [ 0.09026366],\n",
       "        [ 0.20382777],\n",
       "        [-0.20659107],\n",
       "        [ 0.2879683 ],\n",
       "        [ 0.16857727],\n",
       "        [-0.88312256],\n",
       "        [-0.88075686],\n",
       "        [-0.77288604],\n",
       "        [-0.34117928],\n",
       "        [-0.3805796 ],\n",
       "        [-0.0547819 ],\n",
       "        [-0.25815284],\n",
       "        [-0.673228  ],\n",
       "        [-0.1872422 ],\n",
       "        [-0.036119  ]], dtype=float32),\n",
       " array([0.3212504], dtype=float32)]"
      ]
     },
     "execution_count": 27,
     "metadata": {},
     "output_type": "execute_result"
    }
   ],
   "source": [
    "model.layers[0].get_weights()"
   ]
  },
  {
   "cell_type": "code",
   "execution_count": 30,
   "id": "f5c7992a",
   "metadata": {},
   "outputs": [
    {
     "data": {
      "text/plain": [
       "array([-0.6748161], dtype=float32)"
      ]
     },
     "execution_count": 30,
     "metadata": {},
     "output_type": "execute_result"
    }
   ],
   "source": [
    "a = model.layers[0].get_weights()[0][0]\n",
    "a"
   ]
  },
  {
   "cell_type": "code",
   "execution_count": 32,
   "id": "5ca76e26",
   "metadata": {},
   "outputs": [
    {
     "ename": "NameError",
     "evalue": "name 'np' is not defined",
     "output_type": "error",
     "traceback": [
      "\u001b[0;31m---------------------------------------------------------------------------\u001b[0m",
      "\u001b[0;31mNameError\u001b[0m                                 Traceback (most recent call last)",
      "Cell \u001b[0;32mIn[32], line 1\u001b[0m\n\u001b[0;32m----> 1\u001b[0m \u001b[38;5;28mprint\u001b[39m(\u001b[38;5;124m'\u001b[39m\u001b[38;5;124mTime to double:\u001b[39m\u001b[38;5;124m'\u001b[39m, \u001b[43mnp\u001b[49m\u001b[38;5;241m.\u001b[39mlog(\u001b[38;5;241m2\u001b[39m)\u001b[38;5;241m/\u001b[39ma)\n",
      "\u001b[0;31mNameError\u001b[0m: name 'np' is not defined"
     ]
    }
   ],
   "source": [
    "print('Time to double:', np.log(2)/a)"
   ]
  },
  {
   "cell_type": "code",
   "execution_count": null,
   "id": "bb7caed7",
   "metadata": {},
   "outputs": [],
   "source": []
  }
 ],
 "metadata": {
  "kernelspec": {
   "display_name": "Python 3 (ipykernel)",
   "language": "python",
   "name": "python3"
  },
  "language_info": {
   "codemirror_mode": {
    "name": "ipython",
    "version": 3
   },
   "file_extension": ".py",
   "mimetype": "text/x-python",
   "name": "python",
   "nbconvert_exporter": "python",
   "pygments_lexer": "ipython3",
   "version": "3.10.9"
  }
 },
 "nbformat": 4,
 "nbformat_minor": 5
}
